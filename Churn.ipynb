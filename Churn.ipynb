{
  "nbformat": 4,
  "nbformat_minor": 0,
  "metadata": {
    "colab": {
      "provenance": [],
      "authorship_tag": "ABX9TyO0NgKVdxGru4If0K4Gt/GT",
      "include_colab_link": true
    },
    "kernelspec": {
      "name": "python3",
      "display_name": "Python 3"
    },
    "language_info": {
      "name": "python"
    }
  },
  "cells": [
    {
      "cell_type": "markdown",
      "metadata": {
        "id": "view-in-github",
        "colab_type": "text"
      },
      "source": [
        "<a href=\"https://colab.research.google.com/github/PosgradoMNA/actividades-del-projecto-equipo_152/blob/main/Churn.ipynb\" target=\"_parent\"><img src=\"https://colab.research.google.com/assets/colab-badge.svg\" alt=\"Open In Colab\"/></a>"
      ]
    },
    {
      "cell_type": "markdown",
      "source": [
        "# Data Set para Proyecto Final"
      ],
      "metadata": {
        "id": "QIuJ6traIGsK"
      }
    },
    {
      "cell_type": "markdown",
      "source": [
        "**Materia:** Ciencia y Analítica de Datos\n",
        "\n",
        "**Alumnos:** Eduardo Alberto Mc. Naught Flores y Zayra Annette López Regalado\n",
        "\n",
        "**Semana 3:** Actividad 1\n",
        "\n",
        "**Profesor:** Jobish Vallikavungal Devassia\n",
        "\n",
        "**Fecha:** 02/Octubre/2022\n",
        "\n",
        "\n",
        "### Descripción Dataset\n",
        "\n",
        "\n",
        "**El nombre que caracteriza el conjunto de datos:** Bank Customers Churn\n",
        "\n",
        "**La organización que lo generó:** El dataset se obtuvo de Kaggle\n",
        "\n",
        "**Incluya un enlace de Internet donde se puedan descargar el base de datos en línea:** https://www.kaggle.com/datasets/santoshd3/bank-customers\n",
        "\n",
        "**Describe el conjunto de datos. ¿Qué datos contiene?**\n",
        "El dataset propuesto tiene la intención de poder identificar si a una persona con ciertos rásgos podría tener churn ante un banco, es decir, dejar de ser cliente de esa institución, para esto, el dataset nos presenta la siguiente información: 10,000 filas, información general de la persona como ID, apellido, también información relevante para el modelo como credit score, ubicación geográfica, sexo, edad, dinero en la cuenta, número de productos, si tiene tarjeta de crédito, si es miembro y salario estimado.\n",
        "\n",
        "**¿Cuáles son algunas de las preguntas de investigación que podría responder con estos datos? Enumere al menos OCHO (no responda las preguntas).**\n",
        "\n",
        "1.   Qué variables son las más relevantes identificar antes de que el cliente haga churn\n",
        "2.   Qué tan relevante es el país sobre el churn de los usuarios\n",
        "3.   Con la información obtenida se podría anticipar la cancelación?\n",
        "4.   Qué impacto tiene el Credit Score sobre lealtad del cliente\n",
        "5.   La edad de un usuario tiene impacto en la cancelación de los servicios\n",
        "6.   El tener saldo dentro de la cuenta ayuda a evitar que los usuarios se vayan\n",
        "7.   A medida que el usuario tenga más productos, limita el churn, si es así, una buena estrategia del banco sería agregar más productos\n",
        "8.   El tener una tarjeta de crédito aumenta la permanencia de los usuarios?\n",
        "\n",
        "**¿Qué actor (empresa, sector de la sociedad, organismo descentralizado, gobierno, etc.) estaría interesado en las preguntas mencionadas que identificó?**\n",
        "\n",
        "Principalmente los bancos o instituciones financieras que puedan identificar rásgos característicos en las personas los cuales les ayude a implementar estrategias de mitigación del churn\n",
        "\n",
        "Nuestros avances y dataset se encontrarán también disponibles en: https://github.com/PosgradoMNA/actividades-del-projecto-equipo_152\n",
        "\n"
      ],
      "metadata": {
        "id": "rPXjyL80IGpj"
      }
    }
  ]
}